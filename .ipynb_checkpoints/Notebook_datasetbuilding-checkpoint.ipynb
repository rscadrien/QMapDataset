{
 "cells": [
  {
   "cell_type": "code",
   "execution_count": 1,
   "id": "f7eb671b-6211-4168-b682-fa9900b61f7e",
   "metadata": {},
   "outputs": [],
   "source": [
    "import os\n",
    "from Dataset_build import Databuild"
   ]
  },
  {
   "cell_type": "code",
   "execution_count": 2,
   "id": "384560fe-43be-40d1-aa28-626de8342fd9",
   "metadata": {},
   "outputs": [],
   "source": [
    "# ---------------------------------\n",
    "# 1. Define dataset parameters\n",
    "# ---------------------------------\n",
    "n_samples = 100                # number of samples to generate\n",
    "backend_name = \"ibm_brisbane\" # IBM backend to use\n",
    "hard_probs = (0.65, 0.35)       # probability of Real vs Customized backend\n",
    "circuit_probs = (0.5, 0.5)    # probability of Famous vs Random circuits\n",
    "prob_depth = (0.25, 0.4, 0.3, 0.05)  # depth tiers for Random circuits\n",
    "save_path = \"../../Dataset/IBM_Brisbane\"       # folder where samples will be saved"
   ]
  },
  {
   "cell_type": "code",
   "execution_count": 3,
   "id": "e4654907-aa75-43bd-b9d8-aa59bba30c1a",
   "metadata": {},
   "outputs": [
    {
     "name": "stderr",
     "output_type": "stream",
     "text": [
      "management.get:WARNING:2025-10-27 20:32:06,277: Loading default saved account\n",
      "qiskit_runtime_service._discover_backends_from_instance:WARNING:2025-10-27 20:32:20,878: Invalid instance crn:v1:bluemix:public:quantum-computing:us-east:a/e470c7faeb3d4caebc26e1bf89c5b0ea:b76fb6f0-8bd7-453b-8c98-ebbf8e1092aa::\n"
     ]
    },
    {
     "name": "stdout",
     "output_type": "stream",
     "text": [
      "[Attempt 1/10] Backend 'ibm_brisbane' not found. Retrying in 5s...\n"
     ]
    },
    {
     "name": "stderr",
     "output_type": "stream",
     "text": [
      "qiskit_runtime_service._discover_backends_from_instance:WARNING:2025-10-27 20:32:27,625: Invalid instance crn:v1:bluemix:public:quantum-computing:us-east:a/e470c7faeb3d4caebc26e1bf89c5b0ea:b76fb6f0-8bd7-453b-8c98-ebbf8e1092aa::\n"
     ]
    },
    {
     "name": "stdout",
     "output_type": "stream",
     "text": [
      "[Attempt 2/10] Backend 'ibm_brisbane' not found. Retrying in 5s...\n"
     ]
    },
    {
     "name": "stderr",
     "output_type": "stream",
     "text": [
      "qiskit_runtime_service._discover_backends_from_instance:WARNING:2025-10-27 20:32:34,919: Invalid instance crn:v1:bluemix:public:quantum-computing:us-east:a/e470c7faeb3d4caebc26e1bf89c5b0ea:b76fb6f0-8bd7-453b-8c98-ebbf8e1092aa::\n"
     ]
    },
    {
     "name": "stdout",
     "output_type": "stream",
     "text": [
      "[Attempt 3/10] Backend 'ibm_brisbane' not found. Retrying in 5s...\n"
     ]
    },
    {
     "name": "stderr",
     "output_type": "stream",
     "text": [
      "qiskit_runtime_service._discover_backends_from_instance:WARNING:2025-10-27 20:32:44,707: Invalid instance crn:v1:bluemix:public:quantum-computing:us-east:a/e470c7faeb3d4caebc26e1bf89c5b0ea:b76fb6f0-8bd7-453b-8c98-ebbf8e1092aa::\n"
     ]
    },
    {
     "name": "stdout",
     "output_type": "stream",
     "text": [
      "[Attempt 4/10] Backend 'ibm_brisbane' not found. Retrying in 5s...\n"
     ]
    },
    {
     "name": "stderr",
     "output_type": "stream",
     "text": [
      "qiskit_runtime_service._discover_backends_from_instance:WARNING:2025-10-27 20:32:51,944: Invalid instance crn:v1:bluemix:public:quantum-computing:us-east:a/e470c7faeb3d4caebc26e1bf89c5b0ea:b76fb6f0-8bd7-453b-8c98-ebbf8e1092aa::\n"
     ]
    },
    {
     "name": "stdout",
     "output_type": "stream",
     "text": [
      "[Attempt 5/10] Backend 'ibm_brisbane' not found. Retrying in 5s...\n"
     ]
    },
    {
     "name": "stderr",
     "output_type": "stream",
     "text": [
      "qiskit_runtime_service._discover_backends_from_instance:WARNING:2025-10-27 20:32:58,420: Invalid instance crn:v1:bluemix:public:quantum-computing:us-east:a/e470c7faeb3d4caebc26e1bf89c5b0ea:b76fb6f0-8bd7-453b-8c98-ebbf8e1092aa::\n"
     ]
    },
    {
     "name": "stdout",
     "output_type": "stream",
     "text": [
      "[Attempt 6/10] Backend 'ibm_brisbane' not found. Retrying in 5s...\n"
     ]
    },
    {
     "name": "stderr",
     "output_type": "stream",
     "text": [
      "qiskit_runtime_service._discover_backends_from_instance:WARNING:2025-10-27 20:33:04,633: Invalid instance crn:v1:bluemix:public:quantum-computing:us-east:a/e470c7faeb3d4caebc26e1bf89c5b0ea:b76fb6f0-8bd7-453b-8c98-ebbf8e1092aa::\n"
     ]
    },
    {
     "name": "stdout",
     "output_type": "stream",
     "text": [
      "[Attempt 7/10] Backend 'ibm_brisbane' not found. Retrying in 5s...\n"
     ]
    },
    {
     "name": "stderr",
     "output_type": "stream",
     "text": [
      "qiskit_runtime_service._discover_backends_from_instance:WARNING:2025-10-27 20:33:10,790: Invalid instance crn:v1:bluemix:public:quantum-computing:us-east:a/e470c7faeb3d4caebc26e1bf89c5b0ea:b76fb6f0-8bd7-453b-8c98-ebbf8e1092aa::\n"
     ]
    },
    {
     "name": "stdout",
     "output_type": "stream",
     "text": [
      "[Attempt 8/10] Backend 'ibm_brisbane' not found. Retrying in 5s...\n"
     ]
    },
    {
     "name": "stderr",
     "output_type": "stream",
     "text": [
      "qiskit_runtime_service._discover_backends_from_instance:WARNING:2025-10-27 20:33:16,551: Invalid instance crn:v1:bluemix:public:quantum-computing:us-east:a/e470c7faeb3d4caebc26e1bf89c5b0ea:b76fb6f0-8bd7-453b-8c98-ebbf8e1092aa::\n"
     ]
    },
    {
     "name": "stdout",
     "output_type": "stream",
     "text": [
      "[Attempt 9/10] Backend 'ibm_brisbane' not found. Retrying in 5s...\n"
     ]
    },
    {
     "name": "stderr",
     "output_type": "stream",
     "text": [
      "qiskit_runtime_service._discover_backends_from_instance:WARNING:2025-10-27 20:33:22,161: Invalid instance crn:v1:bluemix:public:quantum-computing:us-east:a/e470c7faeb3d4caebc26e1bf89c5b0ea:b76fb6f0-8bd7-453b-8c98-ebbf8e1092aa::\n"
     ]
    },
    {
     "name": "stdout",
     "output_type": "stream",
     "text": [
      "[Attempt 10/10] Backend 'ibm_brisbane' not found. Retrying in 5s...\n",
      "❌ Failed to retrieve backend after multiple attempts.\n"
     ]
    },
    {
     "ename": "QiskitBackendNotFoundError",
     "evalue": "'No backend matches the criteria. Learn more about available backends here https://quantum.cloud.ibm.com/docs/en/guides/qpu-information#view-your-resources'",
     "output_type": "error",
     "traceback": [
      "\u001b[1;31m---------------------------------------------------------------------------\u001b[0m",
      "\u001b[1;31mQiskitBackendNotFoundError\u001b[0m                Traceback (most recent call last)",
      "Cell \u001b[1;32mIn[3], line 4\u001b[0m\n\u001b[0;32m      1\u001b[0m \u001b[38;5;66;03m# ---------------------------------\u001b[39;00m\n\u001b[0;32m      2\u001b[0m \u001b[38;5;66;03m# 2. Generate the dataset\u001b[39;00m\n\u001b[0;32m      3\u001b[0m \u001b[38;5;66;03m# ---------------------------------\u001b[39;00m\n\u001b[1;32m----> 4\u001b[0m Databuild(\n\u001b[0;32m      5\u001b[0m     n_samples\u001b[38;5;241m=\u001b[39mn_samples,\n\u001b[0;32m      6\u001b[0m     backend_name\u001b[38;5;241m=\u001b[39mbackend_name,\n\u001b[0;32m      7\u001b[0m     hard_probs\u001b[38;5;241m=\u001b[39mhard_probs,\n\u001b[0;32m      8\u001b[0m     circuit_probs\u001b[38;5;241m=\u001b[39mcircuit_probs,\n\u001b[0;32m      9\u001b[0m     prob_depth\u001b[38;5;241m=\u001b[39mprob_depth,\n\u001b[0;32m     10\u001b[0m     save_path\u001b[38;5;241m=\u001b[39msave_path\n\u001b[0;32m     11\u001b[0m )\n",
      "File \u001b[1;32m~\\OneDrive\\Documents\\Project_Machine learning for quantum computing\\Qubit mapping\\Code\\Dataset_building\\Dataset_build.py:42\u001b[0m, in \u001b[0;36mDatabuild\u001b[1;34m(n_samples, backend_name, hard_probs, circuit_probs, prob_depth, save_path)\u001b[0m\n\u001b[0;32m     40\u001b[0m \u001b[38;5;66;03m# Create new folder \u001b[39;00m\n\u001b[0;32m     41\u001b[0m os\u001b[38;5;241m.\u001b[39mmakedirs(sample_folder, exist_ok\u001b[38;5;241m=\u001b[39m\u001b[38;5;28;01mTrue\u001b[39;00m)\n\u001b[1;32m---> 42\u001b[0m backend \u001b[38;5;241m=\u001b[39m Sampling_output_hardware(backend_name,sample_folder,hard_probs)\n\u001b[0;32m     43\u001b[0m qc \u001b[38;5;241m=\u001b[39m Sampling_output_circuit(backend,sample_folder,circuit_probs,prob_depth)\n\u001b[0;32m     44\u001b[0m Output_mapping(backend, qc, sample_folder)\n",
      "File \u001b[1;32m~\\OneDrive\\Documents\\Project_Machine learning for quantum computing\\Qubit mapping\\Code\\Dataset_building\\Dataset_build.py:63\u001b[0m, in \u001b[0;36mSampling_output_hardware\u001b[1;34m(backend_name, sample_folder, hard_probs, max_attempts, wait_time)\u001b[0m\n\u001b[0;32m     61\u001b[0m         \u001b[38;5;28;01mif\u001b[39;00m attempt \u001b[38;5;241m==\u001b[39m max_attempts:\n\u001b[0;32m     62\u001b[0m             \u001b[38;5;28mprint\u001b[39m(\u001b[38;5;124m\"\u001b[39m\u001b[38;5;124m❌ Failed to retrieve backend after multiple attempts.\u001b[39m\u001b[38;5;124m\"\u001b[39m)\n\u001b[1;32m---> 63\u001b[0m             \u001b[38;5;28;01mraise\u001b[39;00m e\n\u001b[0;32m     64\u001b[0m         time\u001b[38;5;241m.\u001b[39msleep(wait_time)\n\u001b[0;32m     66\u001b[0m Output_real_hardware(backend,sample_folder,hard_tier)\n",
      "File \u001b[1;32m~\\OneDrive\\Documents\\Project_Machine learning for quantum computing\\Qubit mapping\\Code\\Dataset_building\\Dataset_build.py:57\u001b[0m, in \u001b[0;36mSampling_output_hardware\u001b[1;34m(backend_name, sample_folder, hard_probs, max_attempts, wait_time)\u001b[0m\n\u001b[0;32m     55\u001b[0m \u001b[38;5;28;01mfor\u001b[39;00m attempt \u001b[38;5;129;01min\u001b[39;00m \u001b[38;5;28mrange\u001b[39m(\u001b[38;5;241m1\u001b[39m, max_attempts \u001b[38;5;241m+\u001b[39m \u001b[38;5;241m1\u001b[39m):\n\u001b[0;32m     56\u001b[0m     \u001b[38;5;28;01mtry\u001b[39;00m:\n\u001b[1;32m---> 57\u001b[0m         backend \u001b[38;5;241m=\u001b[39m service\u001b[38;5;241m.\u001b[39mbackend(backend_name)\n\u001b[0;32m     58\u001b[0m         \u001b[38;5;28;01mbreak\u001b[39;00m  \u001b[38;5;66;03m# success\u001b[39;00m\n\u001b[0;32m     59\u001b[0m     \u001b[38;5;28;01mexcept\u001b[39;00m QiskitBackendNotFoundError \u001b[38;5;28;01mas\u001b[39;00m e:\n",
      "File \u001b[1;32m~\\anaconda3\\envs\\Pen\\Lib\\site-packages\\qiskit_ibm_runtime\\qiskit_runtime_service.py:923\u001b[0m, in \u001b[0;36mQiskitRuntimeService.backend\u001b[1;34m(self, name, instance, use_fractional_gates, calibration_id)\u001b[0m\n\u001b[0;32m    918\u001b[0m     \u001b[38;5;28;01mif\u001b[39;00m \u001b[38;5;28mself\u001b[39m\u001b[38;5;241m.\u001b[39m_channel \u001b[38;5;129;01min\u001b[39;00m [\u001b[38;5;124m\"\u001b[39m\u001b[38;5;124mibm_cloud\u001b[39m\u001b[38;5;124m\"\u001b[39m, \u001b[38;5;124m\"\u001b[39m\u001b[38;5;124mibm_quantum_platform\u001b[39m\u001b[38;5;124m\"\u001b[39m]:\n\u001b[0;32m    919\u001b[0m         cloud_msg_url \u001b[38;5;241m=\u001b[39m (\n\u001b[0;32m    920\u001b[0m             \u001b[38;5;124m\"\u001b[39m\u001b[38;5;124m Learn more about available backends here \u001b[39m\u001b[38;5;124m\"\u001b[39m\n\u001b[0;32m    921\u001b[0m             \u001b[38;5;124m\"\u001b[39m\u001b[38;5;124mhttps://quantum.cloud.ibm.com/docs/en/guides/qpu-information#view-your-resources\u001b[39m\u001b[38;5;124m\"\u001b[39m\n\u001b[0;32m    922\u001b[0m         )\n\u001b[1;32m--> 923\u001b[0m     \u001b[38;5;28;01mraise\u001b[39;00m QiskitBackendNotFoundError(\u001b[38;5;124m\"\u001b[39m\u001b[38;5;124mNo backend matches the criteria.\u001b[39m\u001b[38;5;124m\"\u001b[39m \u001b[38;5;241m+\u001b[39m cloud_msg_url)\n\u001b[0;32m    924\u001b[0m \u001b[38;5;28;01mreturn\u001b[39;00m backends[\u001b[38;5;241m0\u001b[39m]\n",
      "\u001b[1;31mQiskitBackendNotFoundError\u001b[0m: 'No backend matches the criteria. Learn more about available backends here https://quantum.cloud.ibm.com/docs/en/guides/qpu-information#view-your-resources'"
     ]
    }
   ],
   "source": [
    "# ---------------------------------\n",
    "# 2. Generate the dataset\n",
    "# ---------------------------------\n",
    "Databuild(\n",
    "    n_samples=n_samples,\n",
    "    backend_name=backend_name,\n",
    "    hard_probs=hard_probs,\n",
    "    circuit_probs=circuit_probs,\n",
    "    prob_depth=prob_depth,\n",
    "    save_path=save_path\n",
    ")"
   ]
  },
  {
   "cell_type": "code",
   "execution_count": null,
   "id": "fe8ae601-6dd9-4312-a359-3342ab44356f",
   "metadata": {},
   "outputs": [],
   "source": []
  }
 ],
 "metadata": {
  "kernelspec": {
   "display_name": "Python 3 (ipykernel)",
   "language": "python",
   "name": "python3"
  },
  "language_info": {
   "codemirror_mode": {
    "name": "ipython",
    "version": 3
   },
   "file_extension": ".py",
   "mimetype": "text/x-python",
   "name": "python",
   "nbconvert_exporter": "python",
   "pygments_lexer": "ipython3",
   "version": "3.11.10"
  }
 },
 "nbformat": 4,
 "nbformat_minor": 5
}
