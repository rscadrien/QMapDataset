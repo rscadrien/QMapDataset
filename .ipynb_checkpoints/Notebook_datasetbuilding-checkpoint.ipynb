{
 "cells": [
  {
   "cell_type": "code",
   "execution_count": 1,
   "id": "f7eb671b-6211-4168-b682-fa9900b61f7e",
   "metadata": {},
   "outputs": [],
   "source": [
    "import os\n",
    "from Dataset_build import Databuild "
   ]
  },
  {
   "cell_type": "code",
   "execution_count": 2,
   "id": "384560fe-43be-40d1-aa28-626de8342fd9",
   "metadata": {},
   "outputs": [],
   "source": [
    "# ---------------------------------\n",
    "# 1. Define dataset parameters\n",
    "# ---------------------------------\n",
    "n_samples = 1                 # number of samples to generate\n",
    "backend_name = \"ibm_brisbane\" # IBM backend to use\n",
    "hard_probs = (0.65, 0.35)       # probability of Real vs Customized backend\n",
    "circuit_probs = (0.5, 0.5)    # probability of Famous vs Random circuits\n",
    "prob_depth = (0.2, 0.3, 0.3, 0.2)  # depth tiers for Random circuits\n",
    "save_path = \"../../Dataset/IBM_brisbane\"       # folder where samples will be saved"
   ]
  },
  {
   "cell_type": "code",
   "execution_count": 3,
   "id": "e4654907-aa75-43bd-b9d8-aa59bba30c1a",
   "metadata": {},
   "outputs": [
    {
     "name": "stderr",
     "output_type": "stream",
     "text": [
      "management.get:WARNING:2025-10-24 17:13:10,198: Loading default saved account\n",
      "management.get:WARNING:2025-10-24 17:13:24,242: Loading default saved account\n",
      "management.get:WARNING:2025-10-24 17:13:35,731: Loading default saved account\n"
     ]
    },
    {
     "name": "stdout",
     "output_type": "stream",
     "text": [
      "Sample 0 created at ../../Dataset\\Sample_0\n"
     ]
    }
   ],
   "source": [
    "# ---------------------------------\n",
    "# 2. Generate the dataset\n",
    "# ---------------------------------\n",
    "Databuild(\n",
    "    n_samples=n_samples,\n",
    "    backend_name=backend_name,\n",
    "    hard_probs=hard_probs,\n",
    "    circuit_probs=circuit_probs,\n",
    "    prob_depth=prob_depth,\n",
    "    save_path=save_path\n",
    ")"
   ]
  },
  {
   "cell_type": "code",
   "execution_count": null,
   "id": "fe8ae601-6dd9-4312-a359-3342ab44356f",
   "metadata": {},
   "outputs": [],
   "source": []
  }
 ],
 "metadata": {
  "kernelspec": {
   "display_name": "Python 3 (ipykernel)",
   "language": "python",
   "name": "python3"
  },
  "language_info": {
   "codemirror_mode": {
    "name": "ipython",
    "version": 3
   },
   "file_extension": ".py",
   "mimetype": "text/x-python",
   "name": "python",
   "nbconvert_exporter": "python",
   "pygments_lexer": "ipython3",
   "version": "3.11.10"
  }
 },
 "nbformat": 4,
 "nbformat_minor": 5
}
