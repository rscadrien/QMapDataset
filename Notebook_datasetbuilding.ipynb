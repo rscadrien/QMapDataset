{
 "cells": [
  {
   "cell_type": "code",
   "execution_count": 1,
   "id": "f7eb671b-6211-4168-b682-fa9900b61f7e",
   "metadata": {},
   "outputs": [],
   "source": [
    "import os\n",
    "from Dataset_build import Databuild "
   ]
  },
  {
   "cell_type": "code",
   "execution_count": 2,
   "id": "384560fe-43be-40d1-aa28-626de8342fd9",
   "metadata": {},
   "outputs": [],
   "source": [
    "# ---------------------------------\n",
    "# 1. Define dataset parameters\n",
    "# ---------------------------------\n",
    "n_samples = 100                 # number of samples to generate\n",
    "backend_name = \"ibm_brisbane\" # IBM backend to use\n",
    "hard_probs = (0.65, 0.35)       # probability of Real vs Customized backend\n",
    "circuit_probs = (0.5, 0.5)    # probability of Famous vs Random circuits\n",
    "prob_depth = (0.2, 0.3, 0.3, 0.2)  # depth tiers for Random circuits\n",
    "save_path = \"../../Dataset/IBM_brisbane\"       # folder where samples will be saved"
   ]
  },
  {
   "cell_type": "code",
   "execution_count": null,
   "id": "e4654907-aa75-43bd-b9d8-aa59bba30c1a",
   "metadata": {},
   "outputs": [
    {
     "name": "stderr",
     "output_type": "stream",
     "text": [
      "management.get:WARNING:2025-10-24 17:19:32,360: Loading default saved account\n",
      "management.get:WARNING:2025-10-24 17:19:50,055: Loading default saved account\n",
      "management.get:WARNING:2025-10-24 17:20:00,950: Loading default saved account\n",
      "management.get:WARNING:2025-10-24 17:20:31,260: Loading default saved account\n"
     ]
    },
    {
     "name": "stdout",
     "output_type": "stream",
     "text": [
      "Sample 0 created at ../../Dataset/IBM_brisbane\\Sample_0\n"
     ]
    },
    {
     "name": "stderr",
     "output_type": "stream",
     "text": [
      "management.get:WARNING:2025-10-24 17:20:45,074: Loading default saved account\n",
      "management.get:WARNING:2025-10-24 17:20:51,483: Loading default saved account\n",
      "management.get:WARNING:2025-10-24 17:20:59,593: Loading default saved account\n"
     ]
    },
    {
     "name": "stdout",
     "output_type": "stream",
     "text": [
      "Sample 1 created at ../../Dataset/IBM_brisbane\\Sample_1\n"
     ]
    },
    {
     "name": "stderr",
     "output_type": "stream",
     "text": [
      "management.get:WARNING:2025-10-24 17:21:08,177: Loading default saved account\n",
      "management.get:WARNING:2025-10-24 17:21:13,662: Loading default saved account\n",
      "management.get:WARNING:2025-10-24 17:21:20,049: Loading default saved account\n"
     ]
    },
    {
     "name": "stdout",
     "output_type": "stream",
     "text": [
      "Sample 2 created at ../../Dataset/IBM_brisbane\\Sample_2\n"
     ]
    },
    {
     "name": "stderr",
     "output_type": "stream",
     "text": [
      "management.get:WARNING:2025-10-24 17:21:26,818: Loading default saved account\n",
      "management.get:WARNING:2025-10-24 17:21:32,424: Loading default saved account\n",
      "management.get:WARNING:2025-10-24 17:22:27,506: Loading default saved account\n"
     ]
    },
    {
     "name": "stdout",
     "output_type": "stream",
     "text": [
      "Sample 3 created at ../../Dataset/IBM_brisbane\\Sample_3\n"
     ]
    },
    {
     "name": "stderr",
     "output_type": "stream",
     "text": [
      "management.get:WARNING:2025-10-24 17:22:34,413: Loading default saved account\n",
      "management.get:WARNING:2025-10-24 17:22:41,055: Loading default saved account\n",
      "management.get:WARNING:2025-10-24 17:22:53,564: Loading default saved account\n"
     ]
    },
    {
     "name": "stdout",
     "output_type": "stream",
     "text": [
      "Sample 4 created at ../../Dataset/IBM_brisbane\\Sample_4\n"
     ]
    },
    {
     "name": "stderr",
     "output_type": "stream",
     "text": [
      "management.get:WARNING:2025-10-24 17:23:02,833: Loading default saved account\n",
      "management.get:WARNING:2025-10-24 17:23:09,221: Loading default saved account\n",
      "management.get:WARNING:2025-10-24 17:23:23,398: Loading default saved account\n"
     ]
    },
    {
     "name": "stdout",
     "output_type": "stream",
     "text": [
      "Sample 5 created at ../../Dataset/IBM_brisbane\\Sample_5\n"
     ]
    },
    {
     "name": "stderr",
     "output_type": "stream",
     "text": [
      "management.get:WARNING:2025-10-24 17:23:29,858: Loading default saved account\n",
      "management.get:WARNING:2025-10-24 17:23:36,068: Loading default saved account\n",
      "management.get:WARNING:2025-10-24 17:26:42,621: Loading default saved account\n"
     ]
    },
    {
     "name": "stdout",
     "output_type": "stream",
     "text": [
      "Sample 6 created at ../../Dataset/IBM_brisbane\\Sample_6\n"
     ]
    },
    {
     "name": "stderr",
     "output_type": "stream",
     "text": [
      "management.get:WARNING:2025-10-24 17:26:49,850: Loading default saved account\n",
      "management.get:WARNING:2025-10-24 17:26:55,427: Loading default saved account\n",
      "management.get:WARNING:2025-10-24 17:27:03,924: Loading default saved account\n"
     ]
    },
    {
     "name": "stdout",
     "output_type": "stream",
     "text": [
      "Sample 7 created at ../../Dataset/IBM_brisbane\\Sample_7\n"
     ]
    },
    {
     "name": "stderr",
     "output_type": "stream",
     "text": [
      "management.get:WARNING:2025-10-24 17:27:10,389: Loading default saved account\n",
      "management.get:WARNING:2025-10-24 17:27:15,946: Loading default saved account\n",
      "management.get:WARNING:2025-10-24 17:27:24,804: Loading default saved account\n"
     ]
    },
    {
     "name": "stdout",
     "output_type": "stream",
     "text": [
      "Sample 8 created at ../../Dataset/IBM_brisbane\\Sample_8\n"
     ]
    },
    {
     "name": "stderr",
     "output_type": "stream",
     "text": [
      "management.get:WARNING:2025-10-24 17:27:34,047: Loading default saved account\n",
      "management.get:WARNING:2025-10-24 17:27:40,091: Loading default saved account\n",
      "management.get:WARNING:2025-10-24 17:27:45,645: Loading default saved account\n"
     ]
    },
    {
     "name": "stdout",
     "output_type": "stream",
     "text": [
      "Sample 9 created at ../../Dataset/IBM_brisbane\\Sample_9\n"
     ]
    },
    {
     "name": "stderr",
     "output_type": "stream",
     "text": [
      "management.get:WARNING:2025-10-24 17:27:52,675: Loading default saved account\n",
      "management.get:WARNING:2025-10-24 17:27:58,684: Loading default saved account\n",
      "management.get:WARNING:2025-10-24 17:28:29,763: Loading default saved account\n"
     ]
    },
    {
     "name": "stdout",
     "output_type": "stream",
     "text": [
      "Sample 10 created at ../../Dataset/IBM_brisbane\\Sample_10\n"
     ]
    },
    {
     "name": "stderr",
     "output_type": "stream",
     "text": [
      "management.get:WARNING:2025-10-24 17:28:36,075: Loading default saved account\n",
      "management.get:WARNING:2025-10-24 17:28:42,434: Loading default saved account\n",
      "management.get:WARNING:2025-10-24 17:28:49,587: Loading default saved account\n"
     ]
    },
    {
     "name": "stdout",
     "output_type": "stream",
     "text": [
      "Sample 11 created at ../../Dataset/IBM_brisbane\\Sample_11\n"
     ]
    },
    {
     "name": "stderr",
     "output_type": "stream",
     "text": [
      "management.get:WARNING:2025-10-24 17:28:56,388: Loading default saved account\n",
      "management.get:WARNING:2025-10-24 17:29:02,401: Loading default saved account\n",
      "management.get:WARNING:2025-10-24 17:29:26,051: Loading default saved account\n"
     ]
    },
    {
     "name": "stdout",
     "output_type": "stream",
     "text": [
      "Sample 12 created at ../../Dataset/IBM_brisbane\\Sample_12\n"
     ]
    },
    {
     "name": "stderr",
     "output_type": "stream",
     "text": [
      "management.get:WARNING:2025-10-24 17:29:35,600: Loading default saved account\n",
      "management.get:WARNING:2025-10-24 17:29:41,945: Loading default saved account\n",
      "management.get:WARNING:2025-10-24 17:30:14,048: Loading default saved account\n"
     ]
    },
    {
     "name": "stdout",
     "output_type": "stream",
     "text": [
      "Sample 13 created at ../../Dataset/IBM_brisbane\\Sample_13\n"
     ]
    },
    {
     "name": "stderr",
     "output_type": "stream",
     "text": [
      "management.get:WARNING:2025-10-24 17:30:20,581: Loading default saved account\n",
      "management.get:WARNING:2025-10-24 17:30:30,155: Loading default saved account\n"
     ]
    }
   ],
   "source": [
    "# ---------------------------------\n",
    "# 2. Generate the dataset\n",
    "# ---------------------------------\n",
    "Databuild(\n",
    "    n_samples=n_samples,\n",
    "    backend_name=backend_name,\n",
    "    hard_probs=hard_probs,\n",
    "    circuit_probs=circuit_probs,\n",
    "    prob_depth=prob_depth,\n",
    "    save_path=save_path\n",
    ")"
   ]
  },
  {
   "cell_type": "code",
   "execution_count": null,
   "id": "fe8ae601-6dd9-4312-a359-3342ab44356f",
   "metadata": {},
   "outputs": [],
   "source": []
  }
 ],
 "metadata": {
  "kernelspec": {
   "display_name": "Python 3 (ipykernel)",
   "language": "python",
   "name": "python3"
  },
  "language_info": {
   "codemirror_mode": {
    "name": "ipython",
    "version": 3
   },
   "file_extension": ".py",
   "mimetype": "text/x-python",
   "name": "python",
   "nbconvert_exporter": "python",
   "pygments_lexer": "ipython3",
   "version": "3.11.10"
  }
 },
 "nbformat": 4,
 "nbformat_minor": 5
}
